{
 "cells": [
  {
   "cell_type": "code",
   "execution_count": 1,
   "id": "2921dfa8",
   "metadata": {},
   "outputs": [],
   "source": [
    "import pandas as pd\n",
    "import numpy as np"
   ]
  },
  {
   "cell_type": "code",
   "execution_count": 2,
   "id": "b5b342b7",
   "metadata": {},
   "outputs": [],
   "source": [
    "df= pd.read_csv('insurance.csv')"
   ]
  },
  {
   "cell_type": "markdown",
   "id": "bc131a02",
   "metadata": {},
   "source": [
    "# DATA PROFILING AND PREPARATION"
   ]
  },
  {
   "cell_type": "code",
   "execution_count": 3,
   "id": "e0645906",
   "metadata": {},
   "outputs": [
    {
     "data": {
      "text/html": [
       "<div>\n",
       "<style scoped>\n",
       "    .dataframe tbody tr th:only-of-type {\n",
       "        vertical-align: middle;\n",
       "    }\n",
       "\n",
       "    .dataframe tbody tr th {\n",
       "        vertical-align: top;\n",
       "    }\n",
       "\n",
       "    .dataframe thead th {\n",
       "        text-align: right;\n",
       "    }\n",
       "</style>\n",
       "<table border=\"1\" class=\"dataframe\">\n",
       "  <thead>\n",
       "    <tr style=\"text-align: right;\">\n",
       "      <th></th>\n",
       "      <th>age</th>\n",
       "      <th>sex</th>\n",
       "      <th>bmi</th>\n",
       "      <th>children</th>\n",
       "      <th>smoker</th>\n",
       "      <th>region</th>\n",
       "      <th>charges</th>\n",
       "    </tr>\n",
       "  </thead>\n",
       "  <tbody>\n",
       "    <tr>\n",
       "      <th>0</th>\n",
       "      <td>19.0</td>\n",
       "      <td>female</td>\n",
       "      <td>27.900</td>\n",
       "      <td>0.0</td>\n",
       "      <td>yes</td>\n",
       "      <td>southwest</td>\n",
       "      <td>16884.924</td>\n",
       "    </tr>\n",
       "    <tr>\n",
       "      <th>1</th>\n",
       "      <td>18.0</td>\n",
       "      <td>male</td>\n",
       "      <td>33.770</td>\n",
       "      <td>1.0</td>\n",
       "      <td>no</td>\n",
       "      <td>Southeast</td>\n",
       "      <td>1725.5523</td>\n",
       "    </tr>\n",
       "    <tr>\n",
       "      <th>2</th>\n",
       "      <td>28.0</td>\n",
       "      <td>male</td>\n",
       "      <td>33.000</td>\n",
       "      <td>3.0</td>\n",
       "      <td>no</td>\n",
       "      <td>southeast</td>\n",
       "      <td>$4449.462</td>\n",
       "    </tr>\n",
       "    <tr>\n",
       "      <th>3</th>\n",
       "      <td>33.0</td>\n",
       "      <td>male</td>\n",
       "      <td>22.705</td>\n",
       "      <td>0.0</td>\n",
       "      <td>no</td>\n",
       "      <td>northwest</td>\n",
       "      <td>$21984.47061</td>\n",
       "    </tr>\n",
       "    <tr>\n",
       "      <th>4</th>\n",
       "      <td>32.0</td>\n",
       "      <td>male</td>\n",
       "      <td>28.880</td>\n",
       "      <td>0.0</td>\n",
       "      <td>no</td>\n",
       "      <td>northwest</td>\n",
       "      <td>$3866.8552</td>\n",
       "    </tr>\n",
       "  </tbody>\n",
       "</table>\n",
       "</div>"
      ],
      "text/plain": [
       "    age     sex     bmi  children smoker     region       charges\n",
       "0  19.0  female  27.900       0.0    yes  southwest     16884.924\n",
       "1  18.0    male  33.770       1.0     no  Southeast     1725.5523\n",
       "2  28.0    male  33.000       3.0     no  southeast     $4449.462\n",
       "3  33.0    male  22.705       0.0     no  northwest  $21984.47061\n",
       "4  32.0    male  28.880       0.0     no  northwest    $3866.8552"
      ]
     },
     "execution_count": 3,
     "metadata": {},
     "output_type": "execute_result"
    }
   ],
   "source": [
    "df.head()"
   ]
  },
  {
   "cell_type": "code",
   "execution_count": 4,
   "id": "8f225894",
   "metadata": {},
   "outputs": [
    {
     "name": "stdout",
     "output_type": "stream",
     "text": [
      "<class 'pandas.core.frame.DataFrame'>\n",
      "RangeIndex: 1338 entries, 0 to 1337\n",
      "Data columns (total 7 columns):\n",
      " #   Column    Non-Null Count  Dtype  \n",
      "---  ------    --------------  -----  \n",
      " 0   age       1272 non-null   float64\n",
      " 1   sex       1272 non-null   object \n",
      " 2   bmi       1272 non-null   float64\n",
      " 3   children  1272 non-null   float64\n",
      " 4   smoker    1272 non-null   object \n",
      " 5   region    1272 non-null   object \n",
      " 6   charges   1284 non-null   object \n",
      "dtypes: float64(3), object(4)\n",
      "memory usage: 73.3+ KB\n"
     ]
    }
   ],
   "source": [
    "df.info()"
   ]
  },
  {
   "cell_type": "markdown",
   "id": "a66480ae",
   "metadata": {},
   "source": [
    "## Checking unique values and count in each column."
   ]
  },
  {
   "cell_type": "code",
   "execution_count": 5,
   "id": "cf1ca1a8",
   "metadata": {},
   "outputs": [
    {
     "name": "stdout",
     "output_type": "stream",
     "text": [
      "age\n",
      "<bound method Series.unique of 0       19.0\n",
      "1       18.0\n",
      "2       28.0\n",
      "3       33.0\n",
      "4       32.0\n",
      "        ... \n",
      "1333    50.0\n",
      "1334   -18.0\n",
      "1335    18.0\n",
      "1336    21.0\n",
      "1337    61.0\n",
      "Name: age, Length: 1338, dtype: float64> \n",
      "=============================\n",
      "\n",
      "\n",
      "sex\n",
      "<bound method Series.unique of 0       female\n",
      "1         male\n",
      "2         male\n",
      "3         male\n",
      "4         male\n",
      "         ...  \n",
      "1333      male\n",
      "1334    female\n",
      "1335    female\n",
      "1336    female\n",
      "1337    female\n",
      "Name: sex, Length: 1338, dtype: object> \n",
      "=============================\n",
      "\n",
      "\n",
      "bmi\n",
      "<bound method Series.unique of 0       27.900\n",
      "1       33.770\n",
      "2       33.000\n",
      "3       22.705\n",
      "4       28.880\n",
      "         ...  \n",
      "1333    30.970\n",
      "1334    31.920\n",
      "1335    36.850\n",
      "1336    25.800\n",
      "1337    29.070\n",
      "Name: bmi, Length: 1338, dtype: float64> \n",
      "=============================\n",
      "\n",
      "\n",
      "children\n",
      "<bound method Series.unique of 0       0.0\n",
      "1       1.0\n",
      "2       3.0\n",
      "3       0.0\n",
      "4       0.0\n",
      "       ... \n",
      "1333    3.0\n",
      "1334    0.0\n",
      "1335    0.0\n",
      "1336    0.0\n",
      "1337    0.0\n",
      "Name: children, Length: 1338, dtype: float64> \n",
      "=============================\n",
      "\n",
      "\n",
      "smoker\n",
      "<bound method Series.unique of 0       yes\n",
      "1        no\n",
      "2        no\n",
      "3        no\n",
      "4        no\n",
      "       ... \n",
      "1333     no\n",
      "1334     no\n",
      "1335     no\n",
      "1336     no\n",
      "1337    yes\n",
      "Name: smoker, Length: 1338, dtype: object> \n",
      "=============================\n",
      "\n",
      "\n",
      "region\n",
      "<bound method Series.unique of 0       southwest\n",
      "1       Southeast\n",
      "2       southeast\n",
      "3       northwest\n",
      "4       northwest\n",
      "          ...    \n",
      "1333    Northwest\n",
      "1334    Northeast\n",
      "1335    southeast\n",
      "1336    southwest\n",
      "1337    northwest\n",
      "Name: region, Length: 1338, dtype: object> \n",
      "=============================\n",
      "\n",
      "\n",
      "charges\n",
      "<bound method Series.unique of 0          16884.924\n",
      "1          1725.5523\n",
      "2          $4449.462\n",
      "3       $21984.47061\n",
      "4         $3866.8552\n",
      "            ...     \n",
      "1333     $10600.5483\n",
      "1334       2205.9808\n",
      "1335      $1629.8335\n",
      "1336        2007.945\n",
      "1337      29141.3603\n",
      "Name: charges, Length: 1338, dtype: object> \n",
      "=============================\n",
      "\n",
      "\n"
     ]
    }
   ],
   "source": [
    "#Assigning all column names to a variable \"cols\"\n",
    "cols= df.columns\n",
    "# printing unique values in each column using for loop\n",
    "for col in cols:\n",
    "    print(col)\n",
    "    \n",
    "    unique= df[col].unique\n",
    "    print(unique,'\\n=============================\\n\\n')"
   ]
  },
  {
   "cell_type": "code",
   "execution_count": 6,
   "id": "ab0dade5",
   "metadata": {},
   "outputs": [
    {
     "name": "stdout",
     "output_type": "stream",
     "text": [
      "age\n",
      "[ 19.  18.  28.  33.  32. -31.  46.  37.  60.  25.  62.  23.  56. -27.\n",
      "  52. -23.  30. -34.  59.  63.  55.  31.  22.  nan  26.  35.  24.  41.\n",
      "  21.  48.  36.  40.  58.  34.  43.  64.  20.  61.  27.  53.  44.  57.\n",
      " -41.  45. -35.  54.  38.  29.  49.  47.  51.  42.  50. -44. -39. -28.\n",
      " -40.  39. -25. -52. -26. -47. -45. -57. -43. -50. -58. -56. -30. -51.\n",
      " -60. -37. -55. -64. -22. -36. -21. -18. -20. -19. -33.] \n",
      "====================================\n",
      "\n",
      "\n",
      "sex\n",
      "['female' 'male' 'woman' 'F' 'man' nan 'M'] \n",
      "====================================\n",
      "\n",
      "\n",
      "bmi\n",
      "[27.9   33.77  33.    22.705 28.88  25.74  33.44  27.74  29.83  25.84\n",
      " 26.22  26.29  34.4   39.82  42.13  24.6   30.78  23.845 40.3   35.3\n",
      " 36.005 32.4   34.1      nan 28.025 27.72  23.085 32.775 17.385 36.3\n",
      " 35.6   26.315 28.6   28.31  36.4   20.425 32.965 20.8   36.67  39.9\n",
      " 26.6   36.63  21.78  37.3   38.665 34.77  24.53  35.625 28.    34.43\n",
      " 28.69  36.955 31.825 31.68  22.88  37.335 27.36  33.66  24.7   25.935\n",
      " 22.42  28.9   39.1   36.19  23.98  24.75  28.5   28.1   32.01  27.4\n",
      " 34.01  35.53  39.805 26.885 38.285 37.62  41.23  34.8   22.895 31.16\n",
      " 27.2   26.98  39.49  24.795 31.3   30.8   38.28  19.95  19.3   31.6\n",
      " 30.115 29.92  27.5   28.4   30.875 27.94  35.09  33.63  29.7   35.72\n",
      " 32.205 49.06  27.17  23.37  37.1   23.75  28.975 31.35  33.915 28.785\n",
      " 28.3   37.4   17.765 34.7   26.505 22.04  35.9   25.555 28.05  25.175\n",
      " 31.9   36.    32.49  25.3   29.735 38.83  30.495 37.73  37.43  24.13\n",
      " 37.145 25.46  39.52  24.42  27.83  36.85  39.6   29.8   29.64  28.215\n",
      " 37.    33.155 18.905 41.47  30.3   15.96  33.345 37.7   27.835 29.2\n",
      " 28.595 26.41  30.69  41.895 30.9   32.2   32.11  31.57  26.2   30.59\n",
      " 32.8   18.05  39.33  32.23  24.035 36.08  22.3   26.4   31.8   26.73\n",
      " 23.1   23.21  33.7   33.25  24.64  33.88  38.06  41.91  31.635 36.195\n",
      " 17.8   24.51  22.22  29.07  22.135 26.8   30.02  20.9   17.29  34.21\n",
      " 25.365 40.15  24.415 25.2   26.84  24.32  42.35  19.8   32.395 30.2\n",
      " 34.2   37.05  27.455 27.55  20.615 24.3   31.79  21.56  28.12  40.565\n",
      " 27.645 31.2   26.62  48.07  36.765 33.4   45.54  28.82  22.99  27.7\n",
      " 25.41  22.61  37.51  38.    33.33  34.865 35.86  31.4   25.27  40.945\n",
      " 34.105 36.48  33.8   36.7   36.385 34.5   32.3   27.6   29.26  23.18\n",
      " 25.6   35.245 43.89  20.79  30.5   21.7   21.89  32.015 30.4   21.09\n",
      " 22.23  32.9   24.89  31.46  17.955 30.685 43.34  39.05  30.21  31.445\n",
      " 19.855 31.02  38.17  20.6   47.52  20.4   24.31  23.6   21.12  30.03\n",
      " 17.48  20.235 17.195 23.9   35.15  22.6   39.16  27.265 29.165 16.815\n",
      " 26.9   33.11  31.73  46.75  29.45  32.68  33.5   43.01  36.52  26.695\n",
      " 33.1   29.6   38.6   23.4   46.53  30.14  30.    28.38  28.7   33.82\n",
      " 24.09  32.67  25.1   32.56  41.325 39.5   34.3   31.065 21.47  25.08\n",
      " 43.4   25.7   27.93  39.2   26.03  30.25  28.93  35.7   35.31  31.\n",
      " 44.22  26.07  25.8   39.425 40.48  38.9   47.41  35.435 46.7   46.2\n",
      " 21.4   23.8   44.77  32.12  29.1   37.29  36.86  34.295 38.095 23.465\n",
      " 45.43  23.65  20.7   28.27  35.91  29.    19.57  31.13  21.85  33.725\n",
      " 29.48  32.6   37.525 23.655 37.8   29.37  19.    21.3   33.535 42.46\n",
      " 38.95  36.1   29.3   39.7   38.19  42.4   34.96  42.68  35.2   31.54\n",
      " 29.81  21.375 40.81  17.4   20.3   18.5   26.125 41.69  24.1   36.2\n",
      " 40.185 35.75  39.27  34.87  44.745 29.545 23.54  40.47  40.66  36.6\n",
      " 35.4   27.075 28.405 21.755 40.28  30.1   32.1   38.39  23.7   35.5\n",
      " 29.15  27.    37.905 22.77  22.8   34.58  27.1   19.475 26.7   34.32\n",
      " 41.14  35.97  22.515 41.8   31.92  26.18  42.24  26.51  35.815 36.575\n",
      " 42.94  21.01  24.225 17.67  34.39  31.5   31.1   32.78  32.45  50.38\n",
      " 47.6   25.4   29.9   43.7   24.86  28.8   29.5   29.04  44.    20.045\n",
      " 40.26  35.1   29.355 32.34  39.8   24.605 33.99  28.2   25.    33.2\n",
      " 23.2   20.1   32.5   37.18  46.09  39.93  35.8   31.255 18.335 42.9\n",
      " 26.79  39.615 25.9   25.745 28.16  23.56  40.5   35.42  39.995 34.675\n",
      " 20.52  23.275 36.29  32.7   19.19  24.985 20.13  23.32  45.32  34.6\n",
      " 18.715 21.565 38.38  23.    37.07  42.655 21.66  29.59  32.    18.3\n",
      " 47.74  22.1   19.095 38.94  31.24  29.925 20.35  25.85  42.75  18.6\n",
      " 23.87  45.9   21.5   30.305 44.88  41.1   40.37  28.49  33.55  40.375\n",
      " 27.28  17.86  33.3   39.14  21.945 24.97  23.94  34.485 21.8   23.3\n",
      " 36.96  21.28  29.4   27.3   37.9   37.715 23.76  25.52  27.61  27.06\n",
      " 39.4   34.9   22.    30.36  27.8   53.13  39.71  32.87  44.7   30.97 ] \n",
      "====================================\n",
      "\n",
      "\n",
      "children\n",
      "[ 0.  1.  3.  2. nan -1.  4. -2.  5. -3. -4.] \n",
      "====================================\n",
      "\n",
      "\n",
      "smoker\n",
      "['yes' 'no' nan] \n",
      "====================================\n",
      "\n",
      "\n",
      "region\n",
      "['southwest' 'Southeast' 'southeast' 'northwest' 'Northwest' 'Northeast'\n",
      " 'northeast' 'Southwest' nan] \n",
      "====================================\n",
      "\n",
      "\n",
      "charges\n",
      "['16884.924' '1725.5523' '$4449.462' ... '$1629.8335' '2007.945'\n",
      " '29141.3603'] \n",
      "====================================\n",
      "\n",
      "\n"
     ]
    }
   ],
   "source": [
    "for col in cols:\n",
    "    print(col)\n",
    "\n",
    "    # get a list of unique values\n",
    "    unique = df[col].unique()\n",
    "\n",
    "    if len(unique):\n",
    "        print(unique, '\\n====================================\\n\\n')\n",
    "    else:\n",
    "        print(str(len(unique)) + ' unique values', '\\n====================================\\n\\n')"
   ]
  },
  {
   "cell_type": "markdown",
   "id": "4155d153",
   "metadata": {},
   "source": [
    "## The Number of missing values in each column\n"
   ]
  },
  {
   "cell_type": "code",
   "execution_count": 7,
   "id": "48bcd0a5",
   "metadata": {},
   "outputs": [
    {
     "data": {
      "text/plain": [
       "age         66\n",
       "sex         66\n",
       "bmi         66\n",
       "children    66\n",
       "smoker      66\n",
       "region      66\n",
       "charges     54\n",
       "dtype: int64"
      ]
     },
     "execution_count": 7,
     "metadata": {},
     "output_type": "execute_result"
    }
   ],
   "source": [
    "df.isnull().sum()"
   ]
  },
  {
   "cell_type": "markdown",
   "id": "96e992e7",
   "metadata": {},
   "source": [
    "## Summary Stattistics for each column\n"
   ]
  },
  {
   "cell_type": "code",
   "execution_count": 8,
   "id": "3e2b5abb",
   "metadata": {},
   "outputs": [
    {
     "data": {
      "text/html": [
       "<div>\n",
       "<style scoped>\n",
       "    .dataframe tbody tr th:only-of-type {\n",
       "        vertical-align: middle;\n",
       "    }\n",
       "\n",
       "    .dataframe tbody tr th {\n",
       "        vertical-align: top;\n",
       "    }\n",
       "\n",
       "    .dataframe thead th {\n",
       "        text-align: right;\n",
       "    }\n",
       "</style>\n",
       "<table border=\"1\" class=\"dataframe\">\n",
       "  <thead>\n",
       "    <tr style=\"text-align: right;\">\n",
       "      <th></th>\n",
       "      <th>age</th>\n",
       "      <th>bmi</th>\n",
       "      <th>children</th>\n",
       "    </tr>\n",
       "  </thead>\n",
       "  <tbody>\n",
       "    <tr>\n",
       "      <th>count</th>\n",
       "      <td>1272.000000</td>\n",
       "      <td>1272.000000</td>\n",
       "      <td>1272.000000</td>\n",
       "    </tr>\n",
       "    <tr>\n",
       "      <th>mean</th>\n",
       "      <td>35.214623</td>\n",
       "      <td>30.560550</td>\n",
       "      <td>0.948899</td>\n",
       "    </tr>\n",
       "    <tr>\n",
       "      <th>std</th>\n",
       "      <td>22.478251</td>\n",
       "      <td>6.095573</td>\n",
       "      <td>1.303532</td>\n",
       "    </tr>\n",
       "    <tr>\n",
       "      <th>min</th>\n",
       "      <td>-64.000000</td>\n",
       "      <td>15.960000</td>\n",
       "      <td>-4.000000</td>\n",
       "    </tr>\n",
       "    <tr>\n",
       "      <th>25%</th>\n",
       "      <td>24.750000</td>\n",
       "      <td>26.180000</td>\n",
       "      <td>0.000000</td>\n",
       "    </tr>\n",
       "    <tr>\n",
       "      <th>50%</th>\n",
       "      <td>38.000000</td>\n",
       "      <td>30.210000</td>\n",
       "      <td>1.000000</td>\n",
       "    </tr>\n",
       "    <tr>\n",
       "      <th>75%</th>\n",
       "      <td>51.000000</td>\n",
       "      <td>34.485000</td>\n",
       "      <td>2.000000</td>\n",
       "    </tr>\n",
       "    <tr>\n",
       "      <th>max</th>\n",
       "      <td>64.000000</td>\n",
       "      <td>53.130000</td>\n",
       "      <td>5.000000</td>\n",
       "    </tr>\n",
       "  </tbody>\n",
       "</table>\n",
       "</div>"
      ],
      "text/plain": [
       "               age          bmi     children\n",
       "count  1272.000000  1272.000000  1272.000000\n",
       "mean     35.214623    30.560550     0.948899\n",
       "std      22.478251     6.095573     1.303532\n",
       "min     -64.000000    15.960000    -4.000000\n",
       "25%      24.750000    26.180000     0.000000\n",
       "50%      38.000000    30.210000     1.000000\n",
       "75%      51.000000    34.485000     2.000000\n",
       "max      64.000000    53.130000     5.000000"
      ]
     },
     "execution_count": 8,
     "metadata": {},
     "output_type": "execute_result"
    }
   ],
   "source": [
    "df.describe()"
   ]
  },
  {
   "cell_type": "code",
   "execution_count": 9,
   "id": "bd9d4acf",
   "metadata": {},
   "outputs": [
    {
     "data": {
      "text/html": [
       "<div>\n",
       "<style scoped>\n",
       "    .dataframe tbody tr th:only-of-type {\n",
       "        vertical-align: middle;\n",
       "    }\n",
       "\n",
       "    .dataframe tbody tr th {\n",
       "        vertical-align: top;\n",
       "    }\n",
       "\n",
       "    .dataframe thead th {\n",
       "        text-align: right;\n",
       "    }\n",
       "</style>\n",
       "<table border=\"1\" class=\"dataframe\">\n",
       "  <thead>\n",
       "    <tr style=\"text-align: right;\">\n",
       "      <th></th>\n",
       "      <th>sex</th>\n",
       "      <th>smoker</th>\n",
       "      <th>region</th>\n",
       "      <th>charges</th>\n",
       "    </tr>\n",
       "  </thead>\n",
       "  <tbody>\n",
       "    <tr>\n",
       "      <th>count</th>\n",
       "      <td>1272</td>\n",
       "      <td>1272</td>\n",
       "      <td>1272</td>\n",
       "      <td>1284</td>\n",
       "    </tr>\n",
       "    <tr>\n",
       "      <th>unique</th>\n",
       "      <td>6</td>\n",
       "      <td>2</td>\n",
       "      <td>8</td>\n",
       "      <td>1272</td>\n",
       "    </tr>\n",
       "    <tr>\n",
       "      <th>top</th>\n",
       "      <td>male</td>\n",
       "      <td>no</td>\n",
       "      <td>Southeast</td>\n",
       "      <td>$nan</td>\n",
       "    </tr>\n",
       "    <tr>\n",
       "      <th>freq</th>\n",
       "      <td>517</td>\n",
       "      <td>1013</td>\n",
       "      <td>172</td>\n",
       "      <td>12</td>\n",
       "    </tr>\n",
       "  </tbody>\n",
       "</table>\n",
       "</div>"
      ],
      "text/plain": [
       "         sex smoker     region charges\n",
       "count   1272   1272       1272    1284\n",
       "unique     6      2          8    1272\n",
       "top     male     no  Southeast    $nan\n",
       "freq     517   1013        172      12"
      ]
     },
     "execution_count": 9,
     "metadata": {},
     "output_type": "execute_result"
    }
   ],
   "source": [
    "## for object column\n",
    "df.describe(include='object')"
   ]
  },
  {
   "cell_type": "markdown",
   "id": "655616f3",
   "metadata": {},
   "source": [
    "## Frequency Distribution of each column "
   ]
  },
  {
   "cell_type": "code",
   "execution_count": 10,
   "id": "165232b6",
   "metadata": {},
   "outputs": [
    {
     "name": "stdout",
     "output_type": "stream",
     "text": [
      "age\n",
      " 18.0    63\n",
      " 19.0    62\n",
      " 48.0    29\n",
      " 46.0    28\n",
      " 53.0    27\n",
      "         ..\n",
      "-28.0     1\n",
      "-25.0     1\n",
      "-56.0     1\n",
      "-58.0     1\n",
      "-33.0     1\n",
      "Name: age, Length: 80, dtype: int64 \n",
      "\n",
      "=======================================================\n",
      "sex\n",
      "male      517\n",
      "female    503\n",
      "man        64\n",
      "M          64\n",
      "woman      62\n",
      "F          62\n",
      "Name: sex, dtype: int64 \n",
      "\n",
      "=======================================================\n",
      "bmi\n",
      "32.300    13\n",
      "28.310     9\n",
      "31.350     8\n",
      "34.100     8\n",
      "28.880     8\n",
      "          ..\n",
      "29.100     1\n",
      "34.295     1\n",
      "23.465     1\n",
      "45.430     1\n",
      "30.970     1\n",
      "Name: bmi, Length: 539, dtype: int64 \n",
      "\n",
      "=======================================================\n",
      "children\n",
      " 0.0    551\n",
      " 1.0    292\n",
      " 2.0    209\n",
      " 3.0    140\n",
      "-1.0     20\n",
      " 4.0     20\n",
      " 5.0     16\n",
      "-2.0     12\n",
      "-3.0      9\n",
      "-4.0      3\n",
      "Name: children, dtype: int64 \n",
      "\n",
      "=======================================================\n",
      "smoker\n",
      "no     1013\n",
      "yes     259\n",
      "Name: smoker, dtype: int64 \n",
      "\n",
      "=======================================================\n",
      "region\n",
      "Southeast    172\n",
      "southeast    170\n",
      "southwest    164\n",
      "Northwest    161\n",
      "Northeast    155\n",
      "northeast    153\n",
      "northwest    149\n",
      "Southwest    148\n",
      "Name: region, dtype: int64 \n",
      "\n",
      "=======================================================\n",
      "charges\n",
      "$nan            12\n",
      "1639.5631        2\n",
      "16884.924        1\n",
      "13555.0049       1\n",
      "4661.28635       1\n",
      "                ..\n",
      "7345.084         1\n",
      "26109.32905      1\n",
      "$28287.89766     1\n",
      "1149.3959        1\n",
      "29141.3603       1\n",
      "Name: charges, Length: 1272, dtype: int64 \n",
      "\n",
      "=======================================================\n"
     ]
    }
   ],
   "source": [
    "cols = df.columns\n",
    "for col in cols:\n",
    "    print(col)\n",
    "    value_counts = df[col].value_counts()\n",
    "    print(value_counts, '\\n\\n=======================================================')"
   ]
  },
  {
   "cell_type": "markdown",
   "id": "3a753162",
   "metadata": {},
   "source": [
    "## Checking for dublicate rows"
   ]
  },
  {
   "cell_type": "code",
   "execution_count": 11,
   "id": "867fee45",
   "metadata": {},
   "outputs": [
    {
     "data": {
      "text/plain": [
       "0       False\n",
       "1       False\n",
       "2       False\n",
       "3       False\n",
       "4       False\n",
       "        ...  \n",
       "1333    False\n",
       "1334    False\n",
       "1335    False\n",
       "1336    False\n",
       "1337    False\n",
       "Length: 1338, dtype: bool"
      ]
     },
     "execution_count": 11,
     "metadata": {},
     "output_type": "execute_result"
    }
   ],
   "source": [
    "df.duplicated()"
   ]
  },
  {
   "cell_type": "code",
   "execution_count": 12,
   "id": "cc282b69",
   "metadata": {},
   "outputs": [
    {
     "name": "stdout",
     "output_type": "stream",
     "text": [
      "Duplicate Rows :\n"
     ]
    },
    {
     "data": {
      "text/html": [
       "<div>\n",
       "<style scoped>\n",
       "    .dataframe tbody tr th:only-of-type {\n",
       "        vertical-align: middle;\n",
       "    }\n",
       "\n",
       "    .dataframe tbody tr th {\n",
       "        vertical-align: top;\n",
       "    }\n",
       "\n",
       "    .dataframe thead th {\n",
       "        text-align: right;\n",
       "    }\n",
       "</style>\n",
       "<table border=\"1\" class=\"dataframe\">\n",
       "  <thead>\n",
       "    <tr style=\"text-align: right;\">\n",
       "      <th></th>\n",
       "      <th>age</th>\n",
       "      <th>sex</th>\n",
       "      <th>bmi</th>\n",
       "      <th>children</th>\n",
       "      <th>smoker</th>\n",
       "      <th>region</th>\n",
       "      <th>charges</th>\n",
       "    </tr>\n",
       "  </thead>\n",
       "  <tbody>\n",
       "    <tr>\n",
       "      <th>780</th>\n",
       "      <td>NaN</td>\n",
       "      <td>NaN</td>\n",
       "      <td>NaN</td>\n",
       "      <td>NaN</td>\n",
       "      <td>NaN</td>\n",
       "      <td>NaN</td>\n",
       "      <td>NaN</td>\n",
       "    </tr>\n",
       "  </tbody>\n",
       "</table>\n",
       "</div>"
      ],
      "text/plain": [
       "     age  sex  bmi  children smoker region charges\n",
       "780  NaN  NaN  NaN       NaN    NaN    NaN     NaN"
      ]
     },
     "execution_count": 12,
     "metadata": {},
     "output_type": "execute_result"
    }
   ],
   "source": [
    "duplicate = df[df.duplicated()]\n",
    "  \n",
    "print(\"Duplicate Rows :\")\n",
    "duplicate"
   ]
  },
  {
   "cell_type": "markdown",
   "id": "bd07a61a",
   "metadata": {},
   "source": [
    "# Summary\n",
    "## List of issues the data contains:\n",
    "\n",
    "### 1. Columns like age, children, and charges has incorrect data types.\n",
    "### 2. There are missing values in all the 7 columns.\n",
    "### 3. There is format error in column values of Sex and Region. \n",
    "### 4. There is bad data in column values of age, children and charges.\n",
    "### 5. We have one duplicate rows."
   ]
  },
  {
   "cell_type": "markdown",
   "id": "4ecd56d3",
   "metadata": {},
   "source": [
    "# Data Cleansing"
   ]
  },
  {
   "cell_type": "code",
   "execution_count": 13,
   "id": "8b6e29b8",
   "metadata": {},
   "outputs": [
    {
     "data": {
      "text/plain": [
       "Index(['age', 'sex', 'bmi', 'children', 'smoker', 'region', 'charges'], dtype='object')"
      ]
     },
     "execution_count": 13,
     "metadata": {},
     "output_type": "execute_result"
    }
   ],
   "source": [
    "df.columns"
   ]
  },
  {
   "cell_type": "code",
   "execution_count": 14,
   "id": "fb61d6f1",
   "metadata": {},
   "outputs": [
    {
     "name": "stdout",
     "output_type": "stream",
     "text": [
      "<class 'pandas.core.frame.DataFrame'>\n",
      "RangeIndex: 1338 entries, 0 to 1337\n",
      "Data columns (total 7 columns):\n",
      " #   Column    Non-Null Count  Dtype  \n",
      "---  ------    --------------  -----  \n",
      " 0   age       1272 non-null   float64\n",
      " 1   sex       1272 non-null   object \n",
      " 2   bmi       1272 non-null   float64\n",
      " 3   children  1272 non-null   float64\n",
      " 4   smoker    1272 non-null   object \n",
      " 5   region    1272 non-null   object \n",
      " 6   charges   1284 non-null   object \n",
      "dtypes: float64(3), object(4)\n",
      "memory usage: 73.3+ KB\n"
     ]
    }
   ],
   "source": [
    "df.info()"
   ]
  },
  {
   "cell_type": "markdown",
   "id": "a4f93aa2",
   "metadata": {},
   "source": [
    "## Modifying improperly formatted data.\n",
    "Fixing the data format for \n",
    "1. Age\n",
    "2. Sex\n",
    "3. Children\n",
    "4. Region\n",
    "5. Charges\n",
    "    \n",
    "    \n"
   ]
  },
  {
   "cell_type": "code",
   "execution_count": 15,
   "id": "758e2573",
   "metadata": {},
   "outputs": [],
   "source": [
    "### converting all the negative ages to posititve\n",
    "df['age']= df['age'].abs()"
   ]
  },
  {
   "cell_type": "code",
   "execution_count": 16,
   "id": "ae5e4ccf",
   "metadata": {},
   "outputs": [],
   "source": [
    "## Correcting the catogires for sex\n",
    "df['sex']= df['sex'].replace(['F','M'],['female','male'])\n",
    "df['sex']= df['sex'].replace(['woman','man'],['female','male'])"
   ]
  },
  {
   "cell_type": "code",
   "execution_count": 17,
   "id": "18f49359",
   "metadata": {},
   "outputs": [],
   "source": [
    "### Correcting the categories for region\n",
    "df['region']= df['region'].replace(['Southwest','Southeast'],['southwest','southeast'])\n",
    "df['region']= df['region'].replace(['Northwest','Northeast'],['northwest','northeast'])"
   ]
  },
  {
   "cell_type": "code",
   "execution_count": 18,
   "id": "c2f15203",
   "metadata": {},
   "outputs": [],
   "source": [
    "### Converting all the negative numbers in number of children to positive\n",
    "df['children']= df['children'].abs()"
   ]
  },
  {
   "cell_type": "code",
   "execution_count": 19,
   "id": "e2e3ab5a",
   "metadata": {},
   "outputs": [],
   "source": [
    "### Removing dollar sign from charges\n",
    "df['charges']=df['charges'].str.replace('$', '', regex=False)"
   ]
  },
  {
   "cell_type": "code",
   "execution_count": 20,
   "id": "11d8b1b7",
   "metadata": {
    "scrolled": true
   },
   "outputs": [
    {
     "name": "stdout",
     "output_type": "stream",
     "text": [
      "age\n",
      "[19. 18. 28. 33. 32. 31. 46. 37. 60. 25. 62. 23. 56. 27. 52. 30. 34. 59.\n",
      " 63. 55. 22. nan 26. 35. 24. 41. 21. 48. 36. 40. 58. 43. 64. 20. 61. 53.\n",
      " 44. 57. 45. 54. 38. 29. 49. 47. 51. 42. 50. 39.] \n",
      "====================================\n",
      "\n",
      "\n",
      "sex\n",
      "['female' 'male' nan] \n",
      "====================================\n",
      "\n",
      "\n",
      "bmi\n",
      "[27.9   33.77  33.    22.705 28.88  25.74  33.44  27.74  29.83  25.84\n",
      " 26.22  26.29  34.4   39.82  42.13  24.6   30.78  23.845 40.3   35.3\n",
      " 36.005 32.4   34.1      nan 28.025 27.72  23.085 32.775 17.385 36.3\n",
      " 35.6   26.315 28.6   28.31  36.4   20.425 32.965 20.8   36.67  39.9\n",
      " 26.6   36.63  21.78  37.3   38.665 34.77  24.53  35.625 28.    34.43\n",
      " 28.69  36.955 31.825 31.68  22.88  37.335 27.36  33.66  24.7   25.935\n",
      " 22.42  28.9   39.1   36.19  23.98  24.75  28.5   28.1   32.01  27.4\n",
      " 34.01  35.53  39.805 26.885 38.285 37.62  41.23  34.8   22.895 31.16\n",
      " 27.2   26.98  39.49  24.795 31.3   30.8   38.28  19.95  19.3   31.6\n",
      " 30.115 29.92  27.5   28.4   30.875 27.94  35.09  33.63  29.7   35.72\n",
      " 32.205 49.06  27.17  23.37  37.1   23.75  28.975 31.35  33.915 28.785\n",
      " 28.3   37.4   17.765 34.7   26.505 22.04  35.9   25.555 28.05  25.175\n",
      " 31.9   36.    32.49  25.3   29.735 38.83  30.495 37.73  37.43  24.13\n",
      " 37.145 25.46  39.52  24.42  27.83  36.85  39.6   29.8   29.64  28.215\n",
      " 37.    33.155 18.905 41.47  30.3   15.96  33.345 37.7   27.835 29.2\n",
      " 28.595 26.41  30.69  41.895 30.9   32.2   32.11  31.57  26.2   30.59\n",
      " 32.8   18.05  39.33  32.23  24.035 36.08  22.3   26.4   31.8   26.73\n",
      " 23.1   23.21  33.7   33.25  24.64  33.88  38.06  41.91  31.635 36.195\n",
      " 17.8   24.51  22.22  29.07  22.135 26.8   30.02  20.9   17.29  34.21\n",
      " 25.365 40.15  24.415 25.2   26.84  24.32  42.35  19.8   32.395 30.2\n",
      " 34.2   37.05  27.455 27.55  20.615 24.3   31.79  21.56  28.12  40.565\n",
      " 27.645 31.2   26.62  48.07  36.765 33.4   45.54  28.82  22.99  27.7\n",
      " 25.41  22.61  37.51  38.    33.33  34.865 35.86  31.4   25.27  40.945\n",
      " 34.105 36.48  33.8   36.7   36.385 34.5   32.3   27.6   29.26  23.18\n",
      " 25.6   35.245 43.89  20.79  30.5   21.7   21.89  32.015 30.4   21.09\n",
      " 22.23  32.9   24.89  31.46  17.955 30.685 43.34  39.05  30.21  31.445\n",
      " 19.855 31.02  38.17  20.6   47.52  20.4   24.31  23.6   21.12  30.03\n",
      " 17.48  20.235 17.195 23.9   35.15  22.6   39.16  27.265 29.165 16.815\n",
      " 26.9   33.11  31.73  46.75  29.45  32.68  33.5   43.01  36.52  26.695\n",
      " 33.1   29.6   38.6   23.4   46.53  30.14  30.    28.38  28.7   33.82\n",
      " 24.09  32.67  25.1   32.56  41.325 39.5   34.3   31.065 21.47  25.08\n",
      " 43.4   25.7   27.93  39.2   26.03  30.25  28.93  35.7   35.31  31.\n",
      " 44.22  26.07  25.8   39.425 40.48  38.9   47.41  35.435 46.7   46.2\n",
      " 21.4   23.8   44.77  32.12  29.1   37.29  36.86  34.295 38.095 23.465\n",
      " 45.43  23.65  20.7   28.27  35.91  29.    19.57  31.13  21.85  33.725\n",
      " 29.48  32.6   37.525 23.655 37.8   29.37  19.    21.3   33.535 42.46\n",
      " 38.95  36.1   29.3   39.7   38.19  42.4   34.96  42.68  35.2   31.54\n",
      " 29.81  21.375 40.81  17.4   20.3   18.5   26.125 41.69  24.1   36.2\n",
      " 40.185 35.75  39.27  34.87  44.745 29.545 23.54  40.47  40.66  36.6\n",
      " 35.4   27.075 28.405 21.755 40.28  30.1   32.1   38.39  23.7   35.5\n",
      " 29.15  27.    37.905 22.77  22.8   34.58  27.1   19.475 26.7   34.32\n",
      " 41.14  35.97  22.515 41.8   31.92  26.18  42.24  26.51  35.815 36.575\n",
      " 42.94  21.01  24.225 17.67  34.39  31.5   31.1   32.78  32.45  50.38\n",
      " 47.6   25.4   29.9   43.7   24.86  28.8   29.5   29.04  44.    20.045\n",
      " 40.26  35.1   29.355 32.34  39.8   24.605 33.99  28.2   25.    33.2\n",
      " 23.2   20.1   32.5   37.18  46.09  39.93  35.8   31.255 18.335 42.9\n",
      " 26.79  39.615 25.9   25.745 28.16  23.56  40.5   35.42  39.995 34.675\n",
      " 20.52  23.275 36.29  32.7   19.19  24.985 20.13  23.32  45.32  34.6\n",
      " 18.715 21.565 38.38  23.    37.07  42.655 21.66  29.59  32.    18.3\n",
      " 47.74  22.1   19.095 38.94  31.24  29.925 20.35  25.85  42.75  18.6\n",
      " 23.87  45.9   21.5   30.305 44.88  41.1   40.37  28.49  33.55  40.375\n",
      " 27.28  17.86  33.3   39.14  21.945 24.97  23.94  34.485 21.8   23.3\n",
      " 36.96  21.28  29.4   27.3   37.9   37.715 23.76  25.52  27.61  27.06\n",
      " 39.4   34.9   22.    30.36  27.8   53.13  39.71  32.87  44.7   30.97 ] \n",
      "====================================\n",
      "\n",
      "\n",
      "children\n",
      "[ 0.  1.  3.  2. nan  4.  5.] \n",
      "====================================\n",
      "\n",
      "\n",
      "smoker\n",
      "['yes' 'no' nan] \n",
      "====================================\n",
      "\n",
      "\n",
      "region\n",
      "['southwest' 'southeast' 'northwest' 'northeast' nan] \n",
      "====================================\n",
      "\n",
      "\n",
      "charges\n",
      "['16884.924' '1725.5523' '4449.462' ... '1629.8335' '2007.945'\n",
      " '29141.3603'] \n",
      "====================================\n",
      "\n",
      "\n"
     ]
    }
   ],
   "source": [
    "for col in cols:\n",
    "    print(col)\n",
    "\n",
    "    # get a list of unique values\n",
    "    unique = df[col].unique()\n",
    "\n",
    "    if len(unique):\n",
    "        print(unique, '\\n====================================\\n\\n')\n",
    "    else:\n",
    "        print(str(len(unique)) + ' unique values', '\\n====================================\\n\\n')"
   ]
  },
  {
   "cell_type": "markdown",
   "id": "27a1aa65",
   "metadata": {},
   "source": [
    "# Changing data types"
   ]
  },
  {
   "cell_type": "code",
   "execution_count": 21,
   "id": "0e0244e9",
   "metadata": {},
   "outputs": [
    {
     "name": "stdout",
     "output_type": "stream",
     "text": [
      "<class 'pandas.core.frame.DataFrame'>\n",
      "RangeIndex: 1338 entries, 0 to 1337\n",
      "Data columns (total 7 columns):\n",
      " #   Column    Non-Null Count  Dtype  \n",
      "---  ------    --------------  -----  \n",
      " 0   age       1272 non-null   float64\n",
      " 1   sex       1272 non-null   object \n",
      " 2   bmi       1272 non-null   float64\n",
      " 3   children  1272 non-null   float64\n",
      " 4   smoker    1272 non-null   object \n",
      " 5   region    1272 non-null   object \n",
      " 6   charges   1284 non-null   object \n",
      "dtypes: float64(3), object(4)\n",
      "memory usage: 73.3+ KB\n"
     ]
    }
   ],
   "source": [
    "df.info()"
   ]
  },
  {
   "cell_type": "code",
   "execution_count": 22,
   "id": "33370d7a",
   "metadata": {},
   "outputs": [
    {
     "data": {
      "text/plain": [
       "0         16884.924\n",
       "1         1725.5523\n",
       "2          4449.462\n",
       "3       21984.47061\n",
       "4         3866.8552\n",
       "           ...     \n",
       "1333     10600.5483\n",
       "1334      2205.9808\n",
       "1335      1629.8335\n",
       "1336       2007.945\n",
       "1337     29141.3603\n",
       "Name: charges, Length: 1338, dtype: object"
      ]
     },
     "execution_count": 22,
     "metadata": {},
     "output_type": "execute_result"
    }
   ],
   "source": [
    "df['charges']"
   ]
  },
  {
   "cell_type": "code",
   "execution_count": 23,
   "id": "17f53ed2",
   "metadata": {},
   "outputs": [],
   "source": [
    "df['age'] = df['age'].astype(\"Int64\")\n",
    "df['children']= df['children'].astype(\"Int64\")\n",
    "df['charges'] = pd.to_numeric(df['charges'], errors='coerce')\n",
    "\n"
   ]
  },
  {
   "cell_type": "code",
   "execution_count": 24,
   "id": "95396a91",
   "metadata": {},
   "outputs": [
    {
     "name": "stdout",
     "output_type": "stream",
     "text": [
      "<class 'pandas.core.frame.DataFrame'>\n",
      "RangeIndex: 1338 entries, 0 to 1337\n",
      "Data columns (total 7 columns):\n",
      " #   Column    Non-Null Count  Dtype  \n",
      "---  ------    --------------  -----  \n",
      " 0   age       1272 non-null   Int64  \n",
      " 1   sex       1272 non-null   object \n",
      " 2   bmi       1272 non-null   float64\n",
      " 3   children  1272 non-null   Int64  \n",
      " 4   smoker    1272 non-null   object \n",
      " 5   region    1272 non-null   object \n",
      " 6   charges   1272 non-null   float64\n",
      "dtypes: Int64(2), float64(2), object(3)\n",
      "memory usage: 75.9+ KB\n"
     ]
    }
   ],
   "source": [
    "df.info()"
   ]
  },
  {
   "cell_type": "markdown",
   "id": "184bf7ea",
   "metadata": {},
   "source": [
    "## Handling Missing Values"
   ]
  },
  {
   "cell_type": "code",
   "execution_count": 25,
   "id": "97bca295",
   "metadata": {},
   "outputs": [
    {
     "data": {
      "text/plain": [
       "age         66\n",
       "sex         66\n",
       "bmi         66\n",
       "children    66\n",
       "smoker      66\n",
       "region      66\n",
       "charges     66\n",
       "dtype: int64"
      ]
     },
     "execution_count": 25,
     "metadata": {},
     "output_type": "execute_result"
    }
   ],
   "source": [
    "### Number of missing values in each column\n",
    "df.isnull().sum()"
   ]
  },
  {
   "cell_type": "code",
   "execution_count": 26,
   "id": "ed45a9c1",
   "metadata": {},
   "outputs": [
    {
     "data": {
      "text/plain": [
       "39"
      ]
     },
     "execution_count": 26,
     "metadata": {},
     "output_type": "execute_result"
    }
   ],
   "source": [
    "# Finding the mean for dataframe  age column\n",
    "mean_value= df['age'].mean()\n",
    "round(mean_value)"
   ]
  },
  {
   "cell_type": "code",
   "execution_count": 27,
   "id": "b762f692",
   "metadata": {},
   "outputs": [],
   "source": [
    "df['age'].fillna(round(df['age'].mean()), inplace= True)"
   ]
  },
  {
   "cell_type": "code",
   "execution_count": 28,
   "id": "ee7d410d",
   "metadata": {},
   "outputs": [
    {
     "data": {
      "text/plain": [
       "32067.769926732286"
      ]
     },
     "execution_count": 28,
     "metadata": {},
     "output_type": "execute_result"
    }
   ],
   "source": [
    "### Finding the mean for dataframe charges column \n",
    "mean_value_smoker= df[df['smoker']== 'yes']['charges'].mean()\n",
    "mean_value_smoker\n"
   ]
  },
  {
   "cell_type": "code",
   "execution_count": 29,
   "id": "d01a9114",
   "metadata": {},
   "outputs": [],
   "source": [
    "df['charges'].fillna(mean_value_smoker, inplace= True)"
   ]
  },
  {
   "cell_type": "code",
   "execution_count": 30,
   "id": "02c3fc66",
   "metadata": {},
   "outputs": [],
   "source": [
    "### find the first mode for the data column\n",
    "df['children'].fillna(df['children'].mode()[0], inplace=True)\n",
    "df['bmi'].fillna(df['bmi'].mode()[0], inplace=True)"
   ]
  },
  {
   "cell_type": "code",
   "execution_count": 31,
   "id": "af8be8c7",
   "metadata": {},
   "outputs": [],
   "source": [
    "### Replace \"Unknown\" for  missing values in columns like sex, smoker, region\n",
    "df['sex'].fillna('Unknown', inplace= True)\n",
    "df['smoker'].fillna('Unknown', inplace= True)\n",
    "df['region'].fillna('Unknown', inplace= True)"
   ]
  },
  {
   "cell_type": "code",
   "execution_count": 32,
   "id": "98cbe632",
   "metadata": {},
   "outputs": [
    {
     "data": {
      "text/plain": [
       "age         0\n",
       "sex         0\n",
       "bmi         0\n",
       "children    0\n",
       "smoker      0\n",
       "region      0\n",
       "charges     0\n",
       "dtype: int64"
      ]
     },
     "execution_count": 32,
     "metadata": {},
     "output_type": "execute_result"
    }
   ],
   "source": [
    "df.isnull().sum()"
   ]
  },
  {
   "cell_type": "markdown",
   "id": "e1cc2148",
   "metadata": {},
   "source": [
    "# Dropping duplicate rows"
   ]
  },
  {
   "cell_type": "code",
   "execution_count": 33,
   "id": "3c0e9f2f",
   "metadata": {},
   "outputs": [],
   "source": [
    "df.drop_duplicates(inplace=True)"
   ]
  },
  {
   "cell_type": "code",
   "execution_count": 34,
   "id": "34ccf958",
   "metadata": {},
   "outputs": [
    {
     "name": "stdout",
     "output_type": "stream",
     "text": [
      "Re-checking the number of duplicate observations:\n"
     ]
    },
    {
     "data": {
      "text/plain": [
       "0"
      ]
     },
     "execution_count": 34,
     "metadata": {},
     "output_type": "execute_result"
    }
   ],
   "source": [
    "print(\"Re-checking the number of duplicate observations:\")\n",
    "df.duplicated().sum()"
   ]
  },
  {
   "cell_type": "markdown",
   "id": "b84655a3",
   "metadata": {},
   "source": [
    "# CHECKING DATA AFTER CLEANSING"
   ]
  },
  {
   "cell_type": "code",
   "execution_count": 35,
   "id": "e790e6a7",
   "metadata": {},
   "outputs": [],
   "source": [
    "# Reseting the index of the DataFrame\n",
    "df.reset_index(drop=True, inplace = True)"
   ]
  },
  {
   "cell_type": "code",
   "execution_count": 37,
   "id": "51de7a19",
   "metadata": {},
   "outputs": [
    {
     "name": "stdout",
     "output_type": "stream",
     "text": [
      "<class 'pandas.core.frame.DataFrame'>\n",
      "RangeIndex: 1335 entries, 0 to 1334\n",
      "Data columns (total 7 columns):\n",
      " #   Column    Non-Null Count  Dtype  \n",
      "---  ------    --------------  -----  \n",
      " 0   age       1335 non-null   Int64  \n",
      " 1   sex       1335 non-null   object \n",
      " 2   bmi       1335 non-null   float64\n",
      " 3   children  1335 non-null   Int64  \n",
      " 4   smoker    1335 non-null   object \n",
      " 5   region    1335 non-null   object \n",
      " 6   charges   1335 non-null   float64\n",
      "dtypes: Int64(2), float64(2), object(3)\n",
      "memory usage: 75.7+ KB\n"
     ]
    }
   ],
   "source": [
    "# the column name and data types\n",
    "df.info()"
   ]
  },
  {
   "cell_type": "code",
   "execution_count": 38,
   "id": "6b6925dc",
   "metadata": {},
   "outputs": [
    {
     "name": "stdout",
     "output_type": "stream",
     "text": [
      "age\n",
      "47 unique values \n",
      "====================================\n",
      "\n",
      "\n",
      "sex\n",
      "['female' 'male' 'Unknown'] \n",
      "====================================\n",
      "\n",
      "\n",
      "bmi\n",
      "539 unique values \n",
      "====================================\n",
      "\n",
      "\n",
      "children\n",
      "<IntegerArray>\n",
      "[0, 1, 3, 2, 4, 5]\n",
      "Length: 6, dtype: Int64 \n",
      "====================================\n",
      "\n",
      "\n",
      "smoker\n",
      "['yes' 'no' 'Unknown'] \n",
      "====================================\n",
      "\n",
      "\n",
      "region\n",
      "['southwest' 'southeast' 'northwest' 'northeast' 'Unknown'] \n",
      "====================================\n",
      "\n",
      "\n",
      "charges\n",
      "1272 unique values \n",
      "====================================\n",
      "\n",
      "\n"
     ]
    }
   ],
   "source": [
    "cols= df.columns\n",
    "# the unique values for each column if no. of values < 30, otherwise printing the number of unique values\n",
    "for col in cols:\n",
    "    # printing the column name\n",
    "    print(col)\n",
    "\n",
    "    # getting a list of unique values for that column\n",
    "    unique = df[col].unique()\n",
    "\n",
    "    # if number of unique values is less than 30, print the values. Otherwise print the number of unique values\n",
    "    if len(unique)<30:\n",
    "        print(unique, '\\n====================================\\n\\n')\n",
    "    else:\n",
    "        print(str(len(unique)) + ' unique values', '\\n====================================\\n\\n')"
   ]
  },
  {
   "cell_type": "code",
   "execution_count": 39,
   "id": "1f901472",
   "metadata": {},
   "outputs": [
    {
     "data": {
      "text/plain": [
       "age         0\n",
       "sex         0\n",
       "bmi         0\n",
       "children    0\n",
       "smoker      0\n",
       "region      0\n",
       "charges     0\n",
       "dtype: int64"
      ]
     },
     "execution_count": 39,
     "metadata": {},
     "output_type": "execute_result"
    }
   ],
   "source": [
    "# the number of missing values of each column:\n",
    "df.isnull().sum()"
   ]
  },
  {
   "cell_type": "code",
   "execution_count": 40,
   "id": "7837ee38",
   "metadata": {},
   "outputs": [
    {
     "data": {
      "text/plain": [
       "0"
      ]
     },
     "execution_count": 40,
     "metadata": {},
     "output_type": "execute_result"
    }
   ],
   "source": [
    "# The number of duplicate observations left\n",
    "df.duplicated().sum()"
   ]
  },
  {
   "cell_type": "code",
   "execution_count": 41,
   "id": "cda11675",
   "metadata": {},
   "outputs": [
    {
     "data": {
      "text/html": [
       "<div>\n",
       "<style scoped>\n",
       "    .dataframe tbody tr th:only-of-type {\n",
       "        vertical-align: middle;\n",
       "    }\n",
       "\n",
       "    .dataframe tbody tr th {\n",
       "        vertical-align: top;\n",
       "    }\n",
       "\n",
       "    .dataframe thead th {\n",
       "        text-align: right;\n",
       "    }\n",
       "</style>\n",
       "<table border=\"1\" class=\"dataframe\">\n",
       "  <thead>\n",
       "    <tr style=\"text-align: right;\">\n",
       "      <th></th>\n",
       "      <th>age</th>\n",
       "      <th>sex</th>\n",
       "      <th>bmi</th>\n",
       "      <th>children</th>\n",
       "      <th>smoker</th>\n",
       "      <th>region</th>\n",
       "      <th>charges</th>\n",
       "    </tr>\n",
       "  </thead>\n",
       "  <tbody>\n",
       "    <tr>\n",
       "      <th>0</th>\n",
       "      <td>19</td>\n",
       "      <td>female</td>\n",
       "      <td>27.900</td>\n",
       "      <td>0</td>\n",
       "      <td>yes</td>\n",
       "      <td>southwest</td>\n",
       "      <td>16884.92400</td>\n",
       "    </tr>\n",
       "    <tr>\n",
       "      <th>1</th>\n",
       "      <td>18</td>\n",
       "      <td>male</td>\n",
       "      <td>33.770</td>\n",
       "      <td>1</td>\n",
       "      <td>no</td>\n",
       "      <td>southeast</td>\n",
       "      <td>1725.55230</td>\n",
       "    </tr>\n",
       "    <tr>\n",
       "      <th>2</th>\n",
       "      <td>28</td>\n",
       "      <td>male</td>\n",
       "      <td>33.000</td>\n",
       "      <td>3</td>\n",
       "      <td>no</td>\n",
       "      <td>southeast</td>\n",
       "      <td>4449.46200</td>\n",
       "    </tr>\n",
       "    <tr>\n",
       "      <th>3</th>\n",
       "      <td>33</td>\n",
       "      <td>male</td>\n",
       "      <td>22.705</td>\n",
       "      <td>0</td>\n",
       "      <td>no</td>\n",
       "      <td>northwest</td>\n",
       "      <td>21984.47061</td>\n",
       "    </tr>\n",
       "    <tr>\n",
       "      <th>4</th>\n",
       "      <td>32</td>\n",
       "      <td>male</td>\n",
       "      <td>28.880</td>\n",
       "      <td>0</td>\n",
       "      <td>no</td>\n",
       "      <td>northwest</td>\n",
       "      <td>3866.85520</td>\n",
       "    </tr>\n",
       "    <tr>\n",
       "      <th>...</th>\n",
       "      <td>...</td>\n",
       "      <td>...</td>\n",
       "      <td>...</td>\n",
       "      <td>...</td>\n",
       "      <td>...</td>\n",
       "      <td>...</td>\n",
       "      <td>...</td>\n",
       "    </tr>\n",
       "    <tr>\n",
       "      <th>1330</th>\n",
       "      <td>50</td>\n",
       "      <td>male</td>\n",
       "      <td>30.970</td>\n",
       "      <td>3</td>\n",
       "      <td>no</td>\n",
       "      <td>northwest</td>\n",
       "      <td>10600.54830</td>\n",
       "    </tr>\n",
       "    <tr>\n",
       "      <th>1331</th>\n",
       "      <td>18</td>\n",
       "      <td>female</td>\n",
       "      <td>31.920</td>\n",
       "      <td>0</td>\n",
       "      <td>no</td>\n",
       "      <td>northeast</td>\n",
       "      <td>2205.98080</td>\n",
       "    </tr>\n",
       "    <tr>\n",
       "      <th>1332</th>\n",
       "      <td>18</td>\n",
       "      <td>female</td>\n",
       "      <td>36.850</td>\n",
       "      <td>0</td>\n",
       "      <td>no</td>\n",
       "      <td>southeast</td>\n",
       "      <td>1629.83350</td>\n",
       "    </tr>\n",
       "    <tr>\n",
       "      <th>1333</th>\n",
       "      <td>21</td>\n",
       "      <td>female</td>\n",
       "      <td>25.800</td>\n",
       "      <td>0</td>\n",
       "      <td>no</td>\n",
       "      <td>southwest</td>\n",
       "      <td>2007.94500</td>\n",
       "    </tr>\n",
       "    <tr>\n",
       "      <th>1334</th>\n",
       "      <td>61</td>\n",
       "      <td>female</td>\n",
       "      <td>29.070</td>\n",
       "      <td>0</td>\n",
       "      <td>yes</td>\n",
       "      <td>northwest</td>\n",
       "      <td>29141.36030</td>\n",
       "    </tr>\n",
       "  </tbody>\n",
       "</table>\n",
       "<p>1335 rows × 7 columns</p>\n",
       "</div>"
      ],
      "text/plain": [
       "      age     sex     bmi  children smoker     region      charges\n",
       "0      19  female  27.900         0    yes  southwest  16884.92400\n",
       "1      18    male  33.770         1     no  southeast   1725.55230\n",
       "2      28    male  33.000         3     no  southeast   4449.46200\n",
       "3      33    male  22.705         0     no  northwest  21984.47061\n",
       "4      32    male  28.880         0     no  northwest   3866.85520\n",
       "...   ...     ...     ...       ...    ...        ...          ...\n",
       "1330   50    male  30.970         3     no  northwest  10600.54830\n",
       "1331   18  female  31.920         0     no  northeast   2205.98080\n",
       "1332   18  female  36.850         0     no  southeast   1629.83350\n",
       "1333   21  female  25.800         0     no  southwest   2007.94500\n",
       "1334   61  female  29.070         0    yes  northwest  29141.36030\n",
       "\n",
       "[1335 rows x 7 columns]"
      ]
     },
     "execution_count": 41,
     "metadata": {},
     "output_type": "execute_result"
    }
   ],
   "source": [
    "# Reset the index of the DataFrame\n",
    "df.reset_index(drop=True, inplace = True)\n",
    "df"
   ]
  },
  {
   "cell_type": "markdown",
   "id": "d711bd91",
   "metadata": {},
   "source": [
    "# Export the cleaned dataset to a csv file"
   ]
  },
  {
   "cell_type": "code",
   "execution_count": 42,
   "id": "1acf4147",
   "metadata": {},
   "outputs": [],
   "source": [
    "#Exporting data into csv file\n",
    "df.to_csv(\"Cleaned_Insurance.csv\", index= False)"
   ]
  },
  {
   "cell_type": "code",
   "execution_count": null,
   "id": "ea421de4",
   "metadata": {},
   "outputs": [],
   "source": []
  }
 ],
 "metadata": {
  "kernelspec": {
   "display_name": "Python 3 (ipykernel)",
   "language": "python",
   "name": "python3"
  },
  "language_info": {
   "codemirror_mode": {
    "name": "ipython",
    "version": 3
   },
   "file_extension": ".py",
   "mimetype": "text/x-python",
   "name": "python",
   "nbconvert_exporter": "python",
   "pygments_lexer": "ipython3",
   "version": "3.9.12"
  }
 },
 "nbformat": 4,
 "nbformat_minor": 5
}
